{
 "cells": [
  {
   "cell_type": "markdown",
   "metadata": {},
   "source": [
    "# Functions Runner"
   ]
  },
  {
   "cell_type": "code",
   "execution_count": 1,
   "metadata": {},
   "outputs": [],
   "source": [
    "import news_scrapers"
   ]
  },
  {
   "cell_type": "code",
   "execution_count": 2,
   "metadata": {},
   "outputs": [
    {
     "name": "stderr",
     "output_type": "stream",
     "text": [
      "C:\\Users\\Gab Daos\\Documents\\Mago\\Git Projects\\COVID19TrackerPH\\ph_news_aggregator\\news_scrapers.py:25: UserWarning: No parser was explicitly specified, so I'm using the best available HTML parser for this system (\"lxml\"). This usually isn't a problem, but if you run this code on another system, or in a different virtual environment, it may use a different parser and behave differently.\n",
      "\n",
      "The code that caused this warning is on line 25 of the file C:\\Users\\Gab Daos\\Documents\\Mago\\Git Projects\\COVID19TrackerPH\\ph_news_aggregator\\news_scrapers.py. To get rid of this warning, pass the additional argument 'features=\"lxml\"' to the BeautifulSoup constructor.\n",
      "\n",
      "  soup = BeautifulSoup(content)\n",
      "C:\\Users\\Gab Daos\\Documents\\Mago\\Git Projects\\COVID19TrackerPH\\ph_news_aggregator\\news_scrapers.py:56: UserWarning: No parser was explicitly specified, so I'm using the best available HTML parser for this system (\"lxml\"). This usually isn't a problem, but if you run this code on another system, or in a different virtual environment, it may use a different parser and behave differently.\n",
      "\n",
      "The code that caused this warning is on line 56 of the file C:\\Users\\Gab Daos\\Documents\\Mago\\Git Projects\\COVID19TrackerPH\\ph_news_aggregator\\news_scrapers.py. To get rid of this warning, pass the additional argument 'features=\"lxml\"' to the BeautifulSoup constructor.\n",
      "\n",
      "  soup = BeautifulSoup(content)\n"
     ]
    },
    {
     "name": "stdout",
     "output_type": "stream",
     "text": [
      "4 Cabinet officials test negative for COVID-19 Mar 15 2020\n",
      "UK warns Brits not to travel to PH, as COVID-19 fears remain Mar 15 2020\n",
      "Soldiers deployed in COVID-19 frontlines, ready to face unseen enemy Mar 15 2020\n",
      "PANOORIN: Mga opisyal, nagsagawa ng temperature check sa bus sa Bataan Mar 14 2020\n",
      "San Juan malls, churches to be shut down temporarily Mar 14 2020\n",
      "Angkas, JoyRide suspend passenger services in response to metro-wide quarantine Mar 14 2020\n",
      "DOH: 13 more COVID-19 cases confirmed; nationwide total up to 111 Mar 14 2020\n",
      "Las Piñas declares state of calamity amid coronavirus alarm Mar 14 2020\n",
      "Task force created to deal border control during Metro Manila quarantine Mar 14 2020\n",
      "DOH: Travelers from NCR must undergo home quarantine in their provinces Mar 14 2020\n",
      "UAAP cancels high-school events, to rework format of college tournaments Mar 14 2020\n",
      "DOJ: Entering Metro Manila during community quarantine no ground for arrest Mar 14 2020\n",
      "Reached latest article\n"
     ]
    }
   ],
   "source": [
    "news_scrapers.get_abscbn()"
   ]
  },
  {
   "cell_type": "code",
   "execution_count": 4,
   "metadata": {},
   "outputs": [
    {
     "name": "stdout",
     "output_type": "stream",
     "text": [
      "WATCH: Swamped by traffic, cops resort to random checks March 15, 2020\n",
      "#MMLockdown trends in PH as netizens air confusion with implementing measures March 15, 2020\n",
      "Davao City under community quarantine March 15, 2020\n",
      "Catanduanes restricts entry of tourists, non-residents March 15, 2020\n",
      "Negros Oriental councilor dies of coronavirus March 15, 2020\n",
      "444 Filipinos in Grand Princess cruise ship to come home March 15, 2020\n",
      "Antipolo City reports first coronavirus case March 15, 2020\n",
      "Pasig City approves 8 pm to 5 am curfew March 15, 2020\n",
      "Coronavirus stops bingo and casinos, POGOs remain open March 15, 2020\n",
      "House employee dies due to coronavirus March 15, 2020\n",
      "Ilocos Norte under community quarantine March 15, 2020\n",
      "Iloilo enforces border restriction and community quarantine March 15, 2020\n",
      "[OPINION] We have to support our health workers March 15, 2020\n",
      "Cavite confirms 2nd coronavirus case March 15, 2020\n",
      "LIST: Metro Manila lockdown checkpoints March 15, 2020\n",
      "WATCH: Traffic builds up on first morning of Metro Manila lockdown March 15, 2020\n",
      "WATCH: Last-minute checkpoints put in place before Metro Manila lockdown March 15, 2020\n",
      "How to help healthcare workers, frontliners during coronavirus pandemic March 15, 2020\n",
      "KAPATID appeals for release of low-offenders, elderly, sick prisoners amid coronavirus outbreak March 15, 2020\n",
      "Coronavirus lockdown: Metro Manila to Cainta, from one quarantine to another March 15, 2020\n",
      "WATCH: Lockdown begins for both Metro Manila and Cainta March 15, 2020\n",
      "WATCH: Not enough checkpoints in Northern Metro Manila for lockdown March 15, 2020\n",
      "IN PHOTOS: Metro Manila lockdown begins March 15, 2020\n",
      "Day 1 of Metro Manila lockdown: Different checkpoints, different rules March 15, 2020\n",
      "Laguna confirms first coronavirus infection March 15, 2020\n",
      "Metro Manila lockdown begins March 15, 2020\n",
      "First confirmed coronavirus case recorded in Abra March 14, 2020\n",
      "Filipino coronavirus cases in Singapore rise to 9 March 14, 2020\n",
      "PH coronavirus watch: Suspected cases per region, as of March 14, 2020 March 14, 2020\n",
      "Sara Duterte speaks of Davao City lockdown scenario March 14, 2020\n",
      "WATCH: Situation at access points as Metro Manila lockdown begins March 14, 2020\n",
      "Reached latest article\n"
     ]
    }
   ],
   "source": [
    "news_scrapers.get_rappler()"
   ]
  },
  {
   "cell_type": "code",
   "execution_count": null,
   "metadata": {},
   "outputs": [],
   "source": []
  }
 ],
 "metadata": {
  "kernelspec": {
   "display_name": "Python 3",
   "language": "python",
   "name": "python3"
  },
  "language_info": {
   "codemirror_mode": {
    "name": "ipython",
    "version": 3
   },
   "file_extension": ".py",
   "mimetype": "text/x-python",
   "name": "python",
   "nbconvert_exporter": "python",
   "pygments_lexer": "ipython3",
   "version": "3.7.3"
  }
 },
 "nbformat": 4,
 "nbformat_minor": 2
}
