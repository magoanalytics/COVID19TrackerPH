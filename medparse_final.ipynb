{
 "cells": [
  {
   "cell_type": "code",
   "execution_count": 9,
   "metadata": {},
   "outputs": [],
   "source": [
    "import glob\n",
    "import pandas as pd\n",
    "import re\n",
    "import spacy\n",
    "import scispacy\n",
    "import en_ner_bc5cdr_md\n",
    "nlp = spacy.load(\"en_ner_bc5cdr_md\")\n",
    "\n",
    "path = r'C:\\Users\\Gab Daos\\Documents\\Mago\\Git Projects\\COVID19TrackerPH\\ph_news_aggregator\\scraped_data' # use your path\n",
    "all_files = glob.glob(path + \"/*.csv\")"
   ]
  },
  {
   "cell_type": "code",
   "execution_count": 10,
   "metadata": {},
   "outputs": [
    {
     "name": "stderr",
     "output_type": "stream",
     "text": [
      "C:\\Anaconda\\lib\\site-packages\\ipykernel_launcher.py:7: FutureWarning: Sorting because non-concatenation axis is not aligned. A future version\n",
      "of pandas will change to not sort by default.\n",
      "\n",
      "To accept the future behavior, pass 'sort=False'.\n",
      "\n",
      "To retain the current behavior and silence the warning, pass 'sort=True'.\n",
      "\n",
      "  import sys\n"
     ]
    }
   ],
   "source": [
    "li = []\n",
    "\n",
    "for filename in all_files:\n",
    "    df = pd.read_csv(filename, index_col=None, header=0)\n",
    "    li.append(df)\n",
    "\n",
    "df = pd.concat(li, axis=0, ignore_index=True)"
   ]
  },
  {
   "cell_type": "code",
   "execution_count": 11,
   "metadata": {},
   "outputs": [],
   "source": [
    "def parse_med(df):\n",
    "    # Find text with word 'death'\n",
    "    df['death'] =  df['text'].apply(lambda x: re.findall(\".*death.*\", x))\n",
    "\n",
    "    # Create df for matching text with word 'death'\n",
    "    death_df = df[df['death'].map(lambda d: len(d)) > 0].drop('death', axis=1)\n",
    "\n",
    "    # Find patient number\n",
    "    death_df['patientno'] = death_df['text'].apply(lambda x: re.findall(\"PH\\d\\d\", x))\n",
    "\n",
    "    # Identifying medical entities in text\n",
    "    death_df['NER_med'] = [nlp(text).ents for text in death_df['text']]\n",
    "    \n",
    "    return death_df"
   ]
  },
  {
   "cell_type": "code",
   "execution_count": 13,
   "metadata": {},
   "outputs": [],
   "source": [
    "med_art = parse_med(df)"
   ]
  },
  {
   "cell_type": "code",
   "execution_count": 28,
   "metadata": {},
   "outputs": [
    {
     "data": {
      "text/plain": [
       "(party-list Rep. Francisco Datol Jr.,\n",
       " coronavirus disease 2019,\n",
       " death,\n",
       " fever,\n",
       " tiredness,\n",
       " dry cough,\n",
       " aches,\n",
       " pains,\n",
       " nasal congestion,\n",
       " runny nose,\n",
       " sore throat,\n",
       " diarrhea,\n",
       " diabetes,\n",
       " coronavirus,\n",
       " infection,\n",
       " pneumonia,\n",
       " COVID-19 illness,\n",
       " infection)"
      ]
     },
     "execution_count": 28,
     "metadata": {},
     "output_type": "execute_result"
    }
   ],
   "source": [
    "med_art['NER_med'][1]"
   ]
  },
  {
   "cell_type": "code",
   "execution_count": 30,
   "metadata": {},
   "outputs": [
    {
     "data": {
      "text/plain": [
       "'\\r\\n\\r\\n\\r\\nA computer image created by Nexu Science Communication together with Trinity College in Dublin, shows a model structurally representative of a betacoronavirus which is the type of virus linked to COVID-19, better known as the coronavirus linked to the Wuhan outbreak, shared with Reuters on Feb. 18, 2020. NEXU Science Communication/Reuters\\r\\n\\r\\n\\r\\nMANILA (4th UPDATE) - Philippine health authorities on Saturday raised Code Red as it confirmed local transmission and another case of coronavirus disease 2019 (COVID-19) in the country, bringing the total number of patients to 6.\\xa0\\r\\nHealth Secretary Francisco Duque III said the latest patient is a 59-year-old woman who got infected from her 62-year-old husband, the country\\'s fifth case of COVID-19.\\xa0\\r\\nThe man was, meanwhile, the first confirmed local transmission of the disease.\\xa0\\r\\nThe couple, who lives east of Manila, are now confined at the state-run Research Institute for Tropical Medicine (RITM) in Alabang, Muntinlupa City. Both have no recent travel history, records from the Bureau of Immigration (BI) showed.\\r\\n\"The DOH is currently exhausting all its efforts to identify others who may have come in contact with the confirmed cases to ensure that this localized transmission does not progress to community spread,\" Duque said.\\r\\n\\r\\nWhat is Code Red?\\r\\n\\r\\nTo stem the spread of the disease, which has infected nearly 100,000 people and killed more than 3,300 worldwide, health authorities raised its alert system to \"Code Red, Sub-level 1.\"\\r\\nThe alert is \"a preemptive call to ensure that national and local governments and public and private health care providers can prepare for possible increase in suspected and confirmed cases,\" Duque said.\\r\\nA \"code red\" alert also means all hospital personnel are required to report for duty in their respective facilities to provide medical services.\\xa0\\r\\nAnnouncing \"code red\" also prompted health authorities to recommend to President Rodrigo Duterte for the declaration of a state of public health emergency.\\r\\n\\r\\nDuterte OKs declaration of state of public health emergency amid coronavirus spread- Go\\r\\n\\r\\nIn response to the DOH recommendation, the chief executive has agreed to declare a national public health emergency, according to Sen. Christopher \"Bong\" Go.\\r\\n\"Pursuant to the recommendation of the DOH and my suggestion as Chair of the Senate Committee on Health, President Rodrigo Duterte has agreed to issue a declaration of a State of Public Health Emergency due to the confirmation of a local transmission of COVID-19 in our country,\" he said.\\r\\nIn the event of a sustained community transmission or an increasing number of local cases whose links cannot be established, Duque said the strategy will be shifted from an intensive contact tracing to the implementation of community-level quarantine or lockdown and/or possibly, suspension of work or school.\\r\\nSIXTH CASE\\r\\nRITM director Dr. Celia Carlos revealed that the latest patient, who was admitted on March 5, was experiencing mild respiratory symptoms.\\r\\nHer husband, the 5th coronavirus case who is suffering from severe pneumonia, is in critical condition, she added.\\xa0\\r\\n\"He still has severe pneumonia and other medical problems like diabetes and hypertension,\" Carlos said.\\r\\nThe man had coughs last Feb. 25 and was admitted at the Cardinal Santos Medical Center in San Juan City on March 1 with severe pneumonia. He tested positive on March 5.\\xa0\\r\\nThe man also frequented a Muslim prayer hall in San Juan, which has seen been disinfected. The worshipers in this prayer hall experiencing symptoms of COVID-19 have been asked to call the Department of Health hotline (02) 8651 7800 local 1149 o 1150 for referral to a health facility.\\xa0\\r\\nAccording to Duque, the recovery of patients in critical condition is slow.\\r\\n\"Based on the experience, the clinical condition on severe cases as reported in China, it takes a very long time for them to recover from 3 to 6 weeks when critical. If mild, it\\'s about 2 to 3 weeks,\" he said.\\r\\nThe first 3 COVID-19 cases in the Philippines involved Chinese nationals with history of travel to Wuhan, China, epicenter of the outbreak. One of them died of severe pneumonia on Feb. 1 while 2 recovered and have returned home.\\xa0\\r\\nThe fourth case, a 48-year-old Filipino man, had traveled to Japan, which has recorded 349 confirmed cases and 6 deaths from the illness.\\xa0\\r\\nHealth assistant secretary Maria Rosario Vergeire said the Philippines had 5 sub-national laboratories capable of diagnosing the virus.\\r\\nThese are the San Lazaro Hospital and Lung Center of the Philippines in Manila, Baguio General Hospital and Medical Center in Northern Luzon, Vicente Sotto Memorial Medical Center in the Visayas, and Southern Philippines Medical Center in Mindanao.\\r\\nThe country also has testing kits capable of completing about 2,500 procedures, Carlos added.\\r\\nDuque also appealed to stakeholders to exercise utmost prudence in sharing sensitive information about suspected or confirmed cases of COVID-19.\\r\\n“Our objectives for sharing information are 2-pronged: ensure the public\\'s health and safety by facilitating contact tracing and ensure that the individual’s right to privacy is not impinged. Hence, we appeal to all to coordinate closely with the Department of Health when disseminating information to the public and within their respective institutions. Let us make sure the information sharing process will yield the utmost benefit, and avoid unnecessary stress and stigma to individuals and institutions,\" the health chief said.\\r\\n\\r\\n\\xa0\\r\\n'"
      ]
     },
     "execution_count": 30,
     "metadata": {},
     "output_type": "execute_result"
    }
   ],
   "source": [
    "med_art.iloc[0]['text']"
   ]
  },
  {
   "cell_type": "code",
   "execution_count": null,
   "metadata": {},
   "outputs": [],
   "source": []
  }
 ],
 "metadata": {
  "kernelspec": {
   "display_name": "Python 3",
   "language": "python",
   "name": "python3"
  },
  "language_info": {
   "codemirror_mode": {
    "name": "ipython",
    "version": 3
   },
   "file_extension": ".py",
   "mimetype": "text/x-python",
   "name": "python",
   "nbconvert_exporter": "python",
   "pygments_lexer": "ipython3",
   "version": "3.7.3"
  }
 },
 "nbformat": 4,
 "nbformat_minor": 4
}
