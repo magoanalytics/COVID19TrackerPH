{
 "cells": [
  {
   "cell_type": "code",
   "execution_count": 4,
   "metadata": {},
   "outputs": [],
   "source": [
    "import glob\n",
    "import pandas as pd\n",
    "import re\n",
    "import spacy\n",
    "import scispacy\n",
    "import en_ner_bc5cdr_md\n",
    "nlp = spacy.load(\"en_ner_bc5cdr_md\")\n",
    "\n",
    "path = r'C:\\Users\\angel\\Documents\\Mago Analytics\\nCoV\\covid repo\\ph_news_aggregator\\scraped_data' # use your path\n",
    "all_files = glob.glob(path + \"/*.csv\")"
   ]
  },
  {
   "cell_type": "code",
   "execution_count": 5,
   "metadata": {},
   "outputs": [],
   "source": [
    "li = []\n",
    "\n",
    "for filename in all_files:\n",
    "    df = pd.read_csv(filename, index_col=None, header=0)\n",
    "    li.append(df)\n",
    "\n",
    "df = pd.concat(li, axis=0, ignore_index=True)"
   ]
  },
  {
   "cell_type": "code",
   "execution_count": 6,
   "metadata": {},
   "outputs": [],
   "source": [
    "def parse_med(df):\n",
    "    # Find text with word 'death'\n",
    "    df['death'] =  df['text'].apply(lambda x: re.findall(\".*death.*\", x))\n",
    "\n",
    "    # Create df for matching text with word 'death'\n",
    "    death_df = df[df['death'].map(lambda d: len(d)) > 0].drop('death', axis=1)\n",
    "\n",
    "    # Find patient number\n",
    "    death_df['patientno'] = death_df['text'].apply(lambda x: re.findall(\"PH\\d\\d\", x))\n",
    "\n",
    "    # Identifying medical entities in text\n",
    "    death_df['NER_med'] = [nlp(text).ents for text in death_df['text']]\n",
    "    \n",
    "    return death_df"
   ]
  }
 ],
 "metadata": {
  "kernelspec": {
   "display_name": "Python 3",
   "language": "python",
   "name": "python3"
  },
  "language_info": {
   "codemirror_mode": {
    "name": "ipython",
    "version": 3
   },
   "file_extension": ".py",
   "mimetype": "text/x-python",
   "name": "python",
   "nbconvert_exporter": "python",
   "pygments_lexer": "ipython3",
   "version": "3.7.6"
  }
 },
 "nbformat": 4,
 "nbformat_minor": 4
}
